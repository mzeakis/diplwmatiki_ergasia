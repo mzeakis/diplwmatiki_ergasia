{
 "cells": [
  {
   "cell_type": "code",
   "execution_count": 1,
   "metadata": {},
   "outputs": [
    {
     "name": "stdout",
     "output_type": "stream",
     "text": [
      "wrote file C:/outs/testSpects/yt5s.com - Kamado Tanjirou no Uta - Orchestral Version (from _Demon Slayer_) (128 kbps).png\n"
     ]
    }
   ],
   "source": [
    "import librosa\n",
    "import numpy as np\n",
    "import skimage.io\n",
    "import os\n",
    "import numpy\n",
    "\n",
    "def scale_minmax(X, min=0.0, max=1.0):\n",
    "    #scale the values between 0 - 1 \n",
    "    X_std = (X - X.min()) / (X.max() - X.min())\n",
    "    X_scaled = X_std * (max - min) + min\n",
    "    return X_scaled\n",
    "\n",
    "\n",
    "def spectrogram_image(y, sr, out, hop_length, n_mels):\n",
    "    # use log-melspectrogram\n",
    "    mels = librosa.feature.melspectrogram(y=y, sr=sr, n_mels=n_mels,\n",
    "                                            n_fft=hop_length*2, hop_length=hop_length)\n",
    "    mels = numpy.log(mels + 1e-9) # add small number to avoid log(0)\n",
    "\n",
    "    # min-max scale to fit inside 8-bit range\n",
    "    img = scale_minmax(mels, 0, 255).astype(np.uint8)\n",
    "    img = numpy.flip(img, axis=0) # put low frequencies at the bottom in image\n",
    "    img = 255-img # invert. make black==more energy\n",
    "\n",
    "    # save as PNG\n",
    "    skimage.io.imsave(out, img)\n",
    "\n",
    "    \n",
    "if __name__ == '__main__':\n",
    "    # settings\n",
    "    hop_length = 4096 # number of samples per time-step in spectrogram\n",
    "    n_mels = 105 # number of bins in spectrogram. Height of image\n",
    "    time_steps = 599 # number of time-steps. Width of image\n",
    "    \n",
    "    # extract a fixed length window\n",
    "    start_sample = 0 # starting at beginning\n",
    "    length_samples = time_steps*hop_length\n",
    "    \n",
    "    \n",
    "    # load audio. Using example from librosa\n",
    "    path = \"C:/Users/Michalis Zeakis/Desktop/university/ptyxiaki/datasets/test_dataset_wav\"\n",
    "\n",
    "    \n",
    "    os.chdir(path)\n",
    "    audio_files = os.listdir()\n",
    "    for file in audio_files:\n",
    "        name, ext = os.path.splitext(file) # splits the name form the extension(.wav)\n",
    "        y, sr = librosa.load(file, sr=44100) # load the wav \n",
    "        out = 'C:/outs/testSpects/{0}.png'.format(name) # set the output folder \n",
    "        window = y[start_sample:start_sample+length_samples] # set the dimensions of the spectrogram\n",
    "        \n",
    "        # convert to PNG\n",
    "        spectrogram_image(window, sr=sr, out=out, hop_length=hop_length, n_mels=n_mels)\n",
    "    \n",
    "    \n",
    "    \n",
    "    print('wrote file', out)"
   ]
  }
 ],
 "metadata": {
  "kernelspec": {
   "display_name": "Python 3",
   "language": "python",
   "name": "python3"
  },
  "language_info": {
   "codemirror_mode": {
    "name": "ipython",
    "version": 3
   },
   "file_extension": ".py",
   "mimetype": "text/x-python",
   "name": "python",
   "nbconvert_exporter": "python",
   "pygments_lexer": "ipython3",
   "version": "3.8.5"
  }
 },
 "nbformat": 4,
 "nbformat_minor": 5
}
