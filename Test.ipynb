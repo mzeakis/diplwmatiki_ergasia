{
 "cells": [
  {
   "cell_type": "code",
   "execution_count": 13,
   "metadata": {},
   "outputs": [
    {
     "name": "stdout",
     "output_type": "stream",
     "text": [
      "True\n",
      "True\n",
      "False\n",
      "True\n",
      "True\n",
      "False\n",
      "True\n"
     ]
    }
   ],
   "source": [
    "a = [1,2,3,4,5,6,7]\n",
    "b = [1,2,4,4,5,5,7]\n",
    "cnt = 0\n",
    "\n",
    "for i in a:\n",
    "    print (i == b[cnt])\n",
    "    cnt += 1"
   ]
  },
  {
   "cell_type": "code",
   "execution_count": 14,
   "metadata": {},
   "outputs": [
    {
     "name": "stdout",
     "output_type": "stream",
     "text": [
      "value is: 0.4567876877 \n"
     ]
    }
   ],
   "source": [
    "val = 0.4567876876876888\n",
    "\n",
    "print(f\"value is: {round(val,10)} \")"
   ]
  },
  {
   "cell_type": "code",
   "execution_count": 15,
   "metadata": {},
   "outputs": [
    {
     "name": "stdout",
     "output_type": "stream",
     "text": [
      "11\n"
     ]
    }
   ],
   "source": [
    "val = 9 \n",
    "valide = 8\n",
    "tsifsa = 6 \n",
    "\n",
    "print( val + valide - tsifsa)"
   ]
  },
  {
   "cell_type": "code",
   "execution_count": 7,
   "metadata": {},
   "outputs": [
    {
     "name": "stdout",
     "output_type": "stream",
     "text": [
      "fgdfd\n"
     ]
    }
   ],
   "source": [
    "print(\"fgfd\")"
   ]
  },
  {
   "cell_type": "code",
   "execution_count": 1,
   "metadata": {},
   "outputs": [],
   "source": [
    "import torch\n",
    "import numpy as np\n",
    "\n",
    "key_training_data = np.load(\"C:/outs/spects4096/test_training_data.npy\", allow_pickle= True) \n",
    "\n",
    "\n"
   ]
  },
  {
   "cell_type": "code",
   "execution_count": null,
   "metadata": {},
   "outputs": [],
   "source": [
    "print(key_training_data)"
   ]
  },
  {
   "cell_type": "code",
   "execution_count": 5,
   "metadata": {},
   "outputs": [],
   "source": []
  },
  {
   "cell_type": "code",
   "execution_count": 6,
   "metadata": {},
   "outputs": [
    {
     "name": "stdout",
     "output_type": "stream",
     "text": [
      "tensor([[0.9176, 1.0000, 1.0000,  ..., 1.0000, 1.0000, 0.6392],\n",
      "        [0.9176, 1.0000, 1.0000,  ..., 1.0000, 1.0000, 0.6353],\n",
      "        [0.9137, 1.0000, 1.0000,  ..., 1.0000, 1.0000, 0.6353],\n",
      "        ...,\n",
      "        [0.1843, 0.2510, 0.1333,  ..., 0.1176, 0.1255, 0.1294],\n",
      "        [0.1843, 0.2353, 0.1059,  ..., 0.1137, 0.0941, 0.0745],\n",
      "        [0.1804, 0.1961, 0.1608,  ..., 0.1020, 0.0706, 0.0745]],\n",
      "       dtype=torch.float64)\n"
     ]
    }
   ],
   "source": [
    "print(temp)"
   ]
  },
  {
   "cell_type": "code",
   "execution_count": 17,
   "metadata": {},
   "outputs": [
    {
     "name": "stdout",
     "output_type": "stream",
     "text": [
      "<class 'numpy.ndarray'>\n"
     ]
    }
   ],
   "source": [
    "print(type(key_training_data[0]))"
   ]
  },
  {
   "cell_type": "code",
   "execution_count": null,
   "metadata": {},
   "outputs": [],
   "source": []
  },
  {
   "cell_type": "code",
   "execution_count": 3,
   "metadata": {},
   "outputs": [],
   "source": [
    "\n",
    "#############################################################################################################\n",
    "\n",
    "for i, data in enumerate(key_training_data): \n",
    "    data[0] = torch.from_numpy(data[0])\n",
    "    \n",
    "    \n",
    "#############################################################################################################"
   ]
  },
  {
   "cell_type": "code",
   "execution_count": 5,
   "metadata": {},
   "outputs": [
    {
     "name": "stdout",
     "output_type": "stream",
     "text": [
      "tensor([[1.0000, 1.0000, 1.0000,  ..., 1.0000, 1.0000, 0.7765],\n",
      "        [1.0000, 1.0000, 1.0000,  ..., 1.0000, 1.0000, 0.7765],\n",
      "        [1.0000, 1.0000, 1.0000,  ..., 1.0000, 1.0000, 0.7765],\n",
      "        ...,\n",
      "        [0.2627, 0.1843, 0.2039,  ..., 0.4118, 0.1961, 0.2000],\n",
      "        [0.1804, 0.0863, 0.1333,  ..., 0.4118, 0.0667, 0.0549],\n",
      "        [0.1647, 0.0588, 0.1059,  ..., 0.4627, 0.0784, 0.0392]],\n",
      "       dtype=torch.float64)\n"
     ]
    }
   ],
   "source": [
    "print((key_training_data[0][0]))"
   ]
  },
  {
   "cell_type": "code",
   "execution_count": 47,
   "metadata": {},
   "outputs": [
    {
     "name": "stdout",
     "output_type": "stream",
     "text": [
      " to a einai 1 kai to b einai : 2  kai to c einai: 3 \n"
     ]
    }
   ],
   "source": [
    "a = 1\n",
    "b = 2\n",
    "c = 3\n",
    "\n",
    "print(f\" to a einai {a}\", f\"kai to b einai : {b}\", f\" kai to c einai: {c} \")"
   ]
  },
  {
   "cell_type": "code",
   "execution_count": null,
   "metadata": {},
   "outputs": [],
   "source": [
    "for i in key_training_data:\n",
    "    print(i[0])\n",
    "    print(i[1])"
   ]
  },
  {
   "cell_type": "code",
   "execution_count": 4,
   "metadata": {},
   "outputs": [
    {
     "name": "stdin",
     "output_type": "stream",
     "text": [
      "please enter ta tisfsa\n",
      "\n",
      " value\n"
     ]
    },
    {
     "name": "stdout",
     "output_type": "stream",
     "text": [
      "value\n"
     ]
    }
   ],
   "source": [
    "value = input(\"please enter ta tisfsa\\n\\n\")\n",
    "\n",
    "print(value)"
   ]
  },
  {
   "cell_type": "code",
   "execution_count": 2,
   "metadata": {},
   "outputs": [
    {
     "name": "stdout",
     "output_type": "stream",
     "text": [
      "This is the color of the sky\n",
      "This is the color of grass\n",
      "This is a dimmer version of the sky\n",
      "This is the color of the sun\n"
     ]
    }
   ],
   "source": [
    "import colorama \n",
    "from colorama import Fore\n",
    "from colorama import Style\n",
    "\n",
    "colorama.init()\n",
    "print(Fore.BLUE + Style.BRIGHT + \"This is the color of the sky\" + Style.RESET_ALL)\n",
    "print(Fore.GREEN + \"This is the color of grass\" + Style.RESET_ALL)\n",
    "print(Fore.BLUE + Style.DIM + \"This is a dimmer version of the sky\" + Style.RESET_ALL)\n",
    "print(Fore.YELLOW + \"This is the color of the sun\" + Style.RESET_ALL)"
   ]
  },
  {
   "cell_type": "code",
   "execution_count": 5,
   "metadata": {},
   "outputs": [
    {
     "name": "stdout",
     "output_type": "stream",
     "text": [
      " hi! \n"
     ]
    }
   ],
   "source": [
    "print(\"\\033[92m hi! \\033[92m\")"
   ]
  },
  {
   "cell_type": "code",
   "execution_count": 4,
   "metadata": {},
   "outputs": [
    {
     "name": "stdout",
     "output_type": "stream",
     "text": [
      "\"red\"\n"
     ]
    },
    {
     "data": {
      "text/plain": [
       "'red'"
      ]
     },
     "execution_count": 4,
     "metadata": {},
     "output_type": "execute_result"
    }
   ],
   "source": [
    "print(\"\\x1b[31m\\\"red\\\"\\x1b[0m\")\n",
    "\"red\""
   ]
  },
  {
   "cell_type": "code",
   "execution_count": 7,
   "metadata": {},
   "outputs": [
    {
     "name": "stdout",
     "output_type": "stream",
     "text": [
      "Hello, World \n"
     ]
    }
   ],
   "source": [
    "def colored(r, g, b, text):\n",
    "    return \"\\033[38;2;{};{};{}m{} \\033[38;2;255;255;255m\".format(r, g, b, text)\n",
    "\n",
    "print(colored(255, 0, 0, 'Hello, World'))"
   ]
  },
  {
   "cell_type": "code",
   "execution_count": 18,
   "metadata": {},
   "outputs": [
    {
     "name": "stdout",
     "output_type": "stream",
     "text": [
      "kalisperes\n"
     ]
    },
    {
     "name": "stdin",
     "output_type": "stream",
     "text": [
      " nai\n"
     ]
    },
    {
     "name": "stdout",
     "output_type": "stream",
     "text": [
      "nai\n",
      "kalisperes\n"
     ]
    },
    {
     "name": "stdin",
     "output_type": "stream",
     "text": [
      " geiaaa\n"
     ]
    },
    {
     "name": "stdout",
     "output_type": "stream",
     "text": [
      "geiaaa\n",
      "kalisperes\n"
     ]
    },
    {
     "name": "stdin",
     "output_type": "stream",
     "text": [
      " ahhahahahaahah\n"
     ]
    },
    {
     "name": "stdout",
     "output_type": "stream",
     "text": [
      "ahhahahahaahah\n",
      "kalisperes\n"
     ]
    },
    {
     "name": "stdin",
     "output_type": "stream",
     "text": [
      " TO KERATO MOU \n"
     ]
    },
    {
     "name": "stdout",
     "output_type": "stream",
     "text": [
      "TO KERATO MOU \n",
      "kalisperes\n"
     ]
    },
    {
     "name": "stdin",
     "output_type": "stream",
     "text": [
      " 0\n"
     ]
    },
    {
     "name": "stdout",
     "output_type": "stream",
     "text": [
      "0\n"
     ]
    },
    {
     "data": {
      "image/png": "[encoded data removed]",
      "text/plain": [
       "<Figure size 432x288 with 1 Axes>"
      ]
     },
     "metadata": {
      "needs_background": "light"
     },
     "output_type": "display_data"
    }
   ],
   "source": [
    "from PIL import Image \n",
    "import numpy as np\n",
    "import matplotlib.pyplot as plt\n",
    "\n",
    "plt.gray()\n",
    "\n",
    "img = Image.open('C:/Users/Michalis Zeakis/Desktop/university/ptyxiaki/datasets/spectro_file/Bad.png')\n",
    "#img.show()\n",
    "#arr = np.asarray(img)\n",
    "#plt.imshow(arr, cmap='gray_r', vmin=0, vmax=255)\n",
    "plt.imshow(img)\n",
    "\n",
    "tsifsa = 1\n",
    "\n",
    "while tsifsa != '0':\n",
    "    tsifsa = input(\"\")\n",
    "    print(tsifsa)"
   ]
  },
  {
   "cell_type": "code",
   "execution_count": 5,
   "metadata": {},
   "outputs": [
    {
     "name": "stdout",
     "output_type": "stream",
     "text": [
      "yeah!!\n",
      "<pydub.audio_segment.AudioSegment object at 0x0000015398BB0B80>\n"
     ]
    }
   ],
   "source": [
    "import os\n",
    "import pydub\n",
    "from pydub import AudioSegment\n",
    "\n",
    "path = \"C:/Users/Michalis Zeakis/Desktop/university/ptyxiaki/datasets/final_dataset_mp3\"\n",
    "\n",
    "os.chdir(path)\n",
    "mp3_files = os.listdir()\n",
    "\n",
    "song = \"Canon\"\n",
    "for file in mp3_files : #  search for the song\n",
    "        name, ext = os.path.splitext(file)\n",
    "        \n",
    "        if (name == song):\n",
    "            my_mp3 = file\n",
    "            found = 1\n",
    "            print(\"yeah!!\")\n",
    "            \n",
    "mp3_sound = AudioSegment.from_mp3(my_mp3)\n",
    "\n",
    "print(mp3_sound)"
   ]
  },
  {
   "cell_type": "code",
   "execution_count": 6,
   "metadata": {},
   "outputs": [
    {
     "ename": "TypeError",
     "evalue": "Invalid file: <pydub.audio_segment.AudioSegment object at 0x0000015398BB0B80>",
     "output_type": "error",
     "traceback": [
      "\u001b[1;31m---------------------------------------------------------------------------\u001b[0m",
      "\u001b[1;31mTypeError\u001b[0m                                 Traceback (most recent call last)",
      "\u001b[1;32m<ipython-input-6-59f04ba154c5>\u001b[0m in \u001b[0;36m<module>\u001b[1;34m\u001b[0m\n\u001b[0;32m     39\u001b[0m     \u001b[1;31m#path = \"C:/Users/georg/Desktop/kappa\"\u001b[0m\u001b[1;33m\u001b[0m\u001b[1;33m\u001b[0m\u001b[1;33m\u001b[0m\u001b[0m\n\u001b[0;32m     40\u001b[0m     \u001b[1;31m#path = \"C:/Users/Michalis Zeakis/Desktop/university/ptyxiaki/datasets/our_wavs\"\u001b[0m\u001b[1;33m\u001b[0m\u001b[1;33m\u001b[0m\u001b[1;33m\u001b[0m\u001b[0m\n\u001b[1;32m---> 41\u001b[1;33m     \u001b[0my\u001b[0m\u001b[1;33m,\u001b[0m \u001b[0msr\u001b[0m \u001b[1;33m=\u001b[0m \u001b[0mlibrosa\u001b[0m\u001b[1;33m.\u001b[0m\u001b[0mload\u001b[0m\u001b[1;33m(\u001b[0m\u001b[0mmp3_sound\u001b[0m\u001b[1;33m,\u001b[0m \u001b[0msr\u001b[0m\u001b[1;33m=\u001b[0m\u001b[1;36m44100\u001b[0m\u001b[1;33m)\u001b[0m\u001b[1;33m\u001b[0m\u001b[1;33m\u001b[0m\u001b[0m\n\u001b[0m\u001b[0;32m     42\u001b[0m     \u001b[1;31m#out = 'C:/outs/testSpects/{0}.png'.format(name)\u001b[0m\u001b[1;33m\u001b[0m\u001b[1;33m\u001b[0m\u001b[1;33m\u001b[0m\u001b[0m\n\u001b[0;32m     43\u001b[0m     \u001b[0mwindow\u001b[0m \u001b[1;33m=\u001b[0m \u001b[0my\u001b[0m\u001b[1;33m[\u001b[0m\u001b[0mstart_sample\u001b[0m\u001b[1;33m:\u001b[0m\u001b[0mstart_sample\u001b[0m\u001b[1;33m+\u001b[0m\u001b[0mlength_samples\u001b[0m\u001b[1;33m]\u001b[0m\u001b[1;33m\u001b[0m\u001b[1;33m\u001b[0m\u001b[0m\n",
      "\u001b[1;32mC:\\anaconda3\\lib\\site-packages\\librosa\\core\\audio.py\u001b[0m in \u001b[0;36mload\u001b[1;34m(path, sr, mono, offset, duration, dtype, res_type)\u001b[0m\n\u001b[0;32m    147\u001b[0m \u001b[1;33m\u001b[0m\u001b[0m\n\u001b[0;32m    148\u001b[0m     \u001b[1;32mtry\u001b[0m\u001b[1;33m:\u001b[0m\u001b[1;33m\u001b[0m\u001b[1;33m\u001b[0m\u001b[0m\n\u001b[1;32m--> 149\u001b[1;33m         \u001b[1;32mwith\u001b[0m \u001b[0msf\u001b[0m\u001b[1;33m.\u001b[0m\u001b[0mSoundFile\u001b[0m\u001b[1;33m(\u001b[0m\u001b[0mpath\u001b[0m\u001b[1;33m)\u001b[0m \u001b[1;32mas\u001b[0m \u001b[0msf_desc\u001b[0m\u001b[1;33m:\u001b[0m\u001b[1;33m\u001b[0m\u001b[1;33m\u001b[0m\u001b[0m\n\u001b[0m\u001b[0;32m    150\u001b[0m             \u001b[0msr_native\u001b[0m \u001b[1;33m=\u001b[0m \u001b[0msf_desc\u001b[0m\u001b[1;33m.\u001b[0m\u001b[0msamplerate\u001b[0m\u001b[1;33m\u001b[0m\u001b[1;33m\u001b[0m\u001b[0m\n\u001b[0;32m    151\u001b[0m             \u001b[1;32mif\u001b[0m \u001b[0moffset\u001b[0m\u001b[1;33m:\u001b[0m\u001b[1;33m\u001b[0m\u001b[1;33m\u001b[0m\u001b[0m\n",
      "\u001b[1;32mC:\\anaconda3\\lib\\site-packages\\soundfile.py\u001b[0m in \u001b[0;36m__init__\u001b[1;34m(self, file, mode, samplerate, channels, subtype, endian, format, closefd)\u001b[0m\n\u001b[0;32m    627\u001b[0m         self._info = _create_info_struct(file, mode, samplerate, channels,\n\u001b[0;32m    628\u001b[0m                                          format, subtype, endian)\n\u001b[1;32m--> 629\u001b[1;33m         \u001b[0mself\u001b[0m\u001b[1;33m.\u001b[0m\u001b[0m_file\u001b[0m \u001b[1;33m=\u001b[0m \u001b[0mself\u001b[0m\u001b[1;33m.\u001b[0m\u001b[0m_open\u001b[0m\u001b[1;33m(\u001b[0m\u001b[0mfile\u001b[0m\u001b[1;33m,\u001b[0m \u001b[0mmode_int\u001b[0m\u001b[1;33m,\u001b[0m \u001b[0mclosefd\u001b[0m\u001b[1;33m)\u001b[0m\u001b[1;33m\u001b[0m\u001b[1;33m\u001b[0m\u001b[0m\n\u001b[0m\u001b[0;32m    630\u001b[0m         \u001b[1;32mif\u001b[0m \u001b[0mset\u001b[0m\u001b[1;33m(\u001b[0m\u001b[0mmode\u001b[0m\u001b[1;33m)\u001b[0m\u001b[1;33m.\u001b[0m\u001b[0missuperset\u001b[0m\u001b[1;33m(\u001b[0m\u001b[1;34m'r+'\u001b[0m\u001b[1;33m)\u001b[0m \u001b[1;32mand\u001b[0m \u001b[0mself\u001b[0m\u001b[1;33m.\u001b[0m\u001b[0mseekable\u001b[0m\u001b[1;33m(\u001b[0m\u001b[1;33m)\u001b[0m\u001b[1;33m:\u001b[0m\u001b[1;33m\u001b[0m\u001b[1;33m\u001b[0m\u001b[0m\n\u001b[0;32m    631\u001b[0m             \u001b[1;31m# Move write position to 0 (like in Python file objects)\u001b[0m\u001b[1;33m\u001b[0m\u001b[1;33m\u001b[0m\u001b[1;33m\u001b[0m\u001b[0m\n",
      "\u001b[1;32mC:\\anaconda3\\lib\\site-packages\\soundfile.py\u001b[0m in \u001b[0;36m_open\u001b[1;34m(self, file, mode_int, closefd)\u001b[0m\n\u001b[0;32m   1180\u001b[0m                                             mode_int, self._info, _ffi.NULL)\n\u001b[0;32m   1181\u001b[0m         \u001b[1;32melse\u001b[0m\u001b[1;33m:\u001b[0m\u001b[1;33m\u001b[0m\u001b[1;33m\u001b[0m\u001b[0m\n\u001b[1;32m-> 1182\u001b[1;33m             \u001b[1;32mraise\u001b[0m \u001b[0mTypeError\u001b[0m\u001b[1;33m(\u001b[0m\u001b[1;34m\"Invalid file: {0!r}\"\u001b[0m\u001b[1;33m.\u001b[0m\u001b[0mformat\u001b[0m\u001b[1;33m(\u001b[0m\u001b[0mself\u001b[0m\u001b[1;33m.\u001b[0m\u001b[0mname\u001b[0m\u001b[1;33m)\u001b[0m\u001b[1;33m)\u001b[0m\u001b[1;33m\u001b[0m\u001b[1;33m\u001b[0m\u001b[0m\n\u001b[0m\u001b[0;32m   1183\u001b[0m         _error_check(_snd.sf_error(file_ptr),\n\u001b[0;32m   1184\u001b[0m                      \"Error opening {0!r}: \".format(self.name))\n",
      "\u001b[1;31mTypeError\u001b[0m: Invalid file: <pydub.audio_segment.AudioSegment object at 0x0000015398BB0B80>"
     ]
    }
   ],
   "source": [
    "import librosa\n",
    "import numpy as np\n",
    "import skimage.io\n",
    "import os\n",
    "import numpy\n",
    "\n",
    "def scale_minmax(X, min=0.0, max=1.0):\n",
    "    X_std = (X - X.min()) / (X.max() - X.min())\n",
    "    X_scaled = X_std * (max - min) + min\n",
    "    return X_scaled\n",
    "\n",
    "def spectrogram_image(y, sr, hop_length, n_mels):\n",
    "    # use log-melspectrogram\n",
    "    mels = librosa.feature.melspectrogram(y=y, sr=sr, n_mels=n_mels,\n",
    "                                            n_fft=hop_length*2, hop_length=hop_length)\n",
    "    mels = numpy.log(mels + 1e-9) # add small number to avoid log(0)\n",
    "\n",
    "    # min-max scale to fit inside 8-bit range\n",
    "    img = scale_minmax(mels, 0, 255).astype(np.uint8)\n",
    "    img = numpy.flip(img, axis=0) # put low frequencies at the bottom in image\n",
    "    img = 255-img # invert. make black==more energy\n",
    "\n",
    "    # save as PNG\n",
    "    #skimage.io.imsave(out, img)\n",
    "    return img\n",
    "\n",
    "if __name__ == '__main__':\n",
    "    # settings\n",
    "    hop_length = 4096 # number of samples per time-step in spectrogram\n",
    "    n_mels = 105 # number of bins in spectrogram. Height of image\n",
    "    time_steps = 599 # number of time-steps. Width of image\n",
    "    \n",
    "    # extract a fixed length window\n",
    "    start_sample = 0 # starting at beginning\n",
    "    length_samples = time_steps*hop_length\n",
    "    \n",
    "    \n",
    "    # load audio. Using example from librosa\n",
    "    #path = \"C:/Users/georg/Desktop/kappa\"\n",
    "    #path = \"C:/Users/Michalis Zeakis/Desktop/university/ptyxiaki/datasets/our_wavs\"\n",
    "    y, sr = librosa.load(mp3_sound, sr=44100)\n",
    "    #out = 'C:/outs/testSpects/{0}.png'.format(name)\n",
    "    window = y[start_sample:start_sample+length_samples]\n",
    "    # convert to PNG\n",
    "    my_spect = spectrogram_image(window, sr=sr, hop_length=hop_length, n_mels=n_mels)\n",
    "\n",
    "    \n",
    "    \n",
    "    print('wrote file', my_spect)"
   ]
  },
  {
   "cell_type": "code",
   "execution_count": null,
   "metadata": {},
   "outputs": [],
   "source": []
  }
 ],
 "metadata": {
  "kernelspec": {
   "display_name": "Python 3",
   "language": "python",
   "name": "python3"
  },
  "language_info": {
   "codemirror_mode": {
    "name": "ipython",
    "version": 3
   },
   "file_extension": ".py",
   "mimetype": "text/x-python",
   "name": "python",
   "nbconvert_exporter": "python",
   "pygments_lexer": "ipython3",
   "version": "3.8.5"
  }
 },
 "nbformat": 4,
 "nbformat_minor": 4
}
