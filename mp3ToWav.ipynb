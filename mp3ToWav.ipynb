{
 "cells": [
  {
   "cell_type": "code",
   "execution_count": 1,
   "metadata": {},
   "outputs": [
    {
     "name": "stdout",
     "output_type": "stream",
     "text": [
      "Done !!\n"
     ]
    }
   ],
   "source": [
    "import os\n",
    "import pydub\n",
    "from pydub import AudioSegment\n",
    "\n",
    "pydub.AudioSegment.converter = r\"C:\\ffmpeg\\bin\\ffmpeg.exe\" #setting the windows mp3 converter\n",
    "\n",
    "path = \"C:/users/Michalis Zeakis/Desktop/university/ptyxiaki/datasets/our_dataset\"\n",
    "\n",
    "#Change working directory\n",
    "os.chdir(path)\n",
    "\n",
    "audio_files = os.listdir()\n",
    "\n",
    "# we dont need the number of files in the folder, just iterate over them directly using:\n",
    "for file in audio_files:\n",
    "    \n",
    "    #spliting the file into the name and the extension\n",
    "    name, ext = os.path.splitext(file)\n",
    "    mp3_sound = AudioSegment.from_mp3(file)\n",
    "    #rename them using the old name + \".wav\"\n",
    "    mp3_sound.export(\"C:/Users/Michalis Zeakis/Desktop/university/ptyxiaki/datasets/test_dataset_wav/{0}.wav\".format(name), format=\"wav\")\n",
    "\n",
    "print(\"Done !!\")"
   ]
  },
  {
   "cell_type": "code",
   "execution_count": null,
   "metadata": {},
   "outputs": [],
   "source": []
  }
 ],
 "metadata": {
  "kernelspec": {
   "display_name": "Python 3",
   "language": "python",
   "name": "python3"
  },
  "language_info": {
   "codemirror_mode": {
    "name": "ipython",
    "version": 3
   },
   "file_extension": ".py",
   "mimetype": "text/x-python",
   "name": "python",
   "nbconvert_exporter": "python",
   "pygments_lexer": "ipython3",
   "version": "3.8.5"
  }
 },
 "nbformat": 4,
 "nbformat_minor": 4
}
