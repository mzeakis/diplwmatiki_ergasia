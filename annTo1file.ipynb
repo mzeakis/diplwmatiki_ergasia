{
 "cells": [
  {
   "cell_type": "code",
   "execution_count": 23,
   "metadata": {},
   "outputs": [],
   "source": [
    "import os\n",
    "\n",
    "path = \"C:/Users/Michalis Zeakis/Desktop/university/ptyxiaki/datasets/giantsteps-key-dataset-master/annotations/key\"\n",
    "\n",
    "files = os.listdir(path)\n",
    "extension = \".LOFI.key\"\n",
    "\n",
    "for f in files:\n",
    "    #read the id and the key from the annotation files\n",
    "    #print(f)\n",
    "    f_id = f.replace(extension,\"\") # replace the extension of the file to et the sample id \n",
    "    #print(f_id)\n",
    "    f_path = os.path.join(path,f) #join the folder path with the file name to be able to open the file\n",
    "    my_f = open(f_path,\"r\") \n",
    "    f_key = my_f.read()\n",
    "    #print(f_key)\n",
    "    \n",
    "    #write the id and the key to the txt file\n",
    "    out = open(\"C:/Users/Michalis Zeakis/Desktop/university/ptyxiaki/datasets/giantsteps-key-dataset-master/testForAnnotations.txt\", \"a\")\n",
    "    out.write(f_id)\n",
    "    out.write(\" \")\n",
    "    out.write(f_key)\n",
    "    out.write(\"\\n\")\n",
    "    out.close()\n",
    "    my_f.close()\n",
    "    "
   ]
  },
  {
   "cell_type": "code",
   "execution_count": null,
   "metadata": {},
   "outputs": [],
   "source": []
  },
  {
   "cell_type": "code",
   "execution_count": 42,
   "metadata": {},
   "outputs": [
    {
     "name": "stdout",
     "output_type": "stream",
     "text": [
      "1004923 C minor\n",
      "\n",
      "8\n",
      "8\n",
      "YEAH\n"
     ]
    }
   ],
   "source": [
    "#testing split func\n",
    "import os \n",
    "\n",
    "out = open(\"C:/Users/Michalis Zeakis/Desktop/university/ptyxiaki/datasets/giantsteps-key-dataset-master/testForAnnotations.txt\", \"r\")\n",
    "\n",
    "y = out.readline()\n",
    "print(y)\n",
    "file , note = y.split(' ', 1)\n",
    "\n",
    "print(len(note))\n",
    "\n",
    "x = \"C minor\\n\"\n",
    "print(len(x))\n",
    "\n",
    "if x == note: \n",
    "    print(\"YEAH\")"
   ]
  },
  {
   "cell_type": "code",
   "execution_count": null,
   "metadata": {},
   "outputs": [],
   "source": []
  },
  {
   "cell_type": "code",
   "execution_count": null,
   "metadata": {},
   "outputs": [],
   "source": []
  }
 ],
 "metadata": {
  "kernelspec": {
   "display_name": "Python 3",
   "language": "python",
   "name": "python3"
  },
  "language_info": {
   "codemirror_mode": {
    "name": "ipython",
    "version": 3
   },
   "file_extension": ".py",
   "mimetype": "text/x-python",
   "name": "python",
   "nbconvert_exporter": "python",
   "pygments_lexer": "ipython3",
   "version": "3.8.5"
  }
 },
 "nbformat": 4,
 "nbformat_minor": 4
}
