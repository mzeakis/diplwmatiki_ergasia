{
 "cells": [
  {
   "cell_type": "code",
   "execution_count": 1,
   "metadata": {},
   "outputs": [
    {
     "name": "stderr",
     "output_type": "stream",
     "text": [
      "C:\\anaconda3\\lib\\site-packages\\torchaudio\\extension\\extension.py:13: UserWarning: torchaudio C++ extension is not available.\n",
      "  warnings.warn('torchaudio C++ extension is not available.')\n",
      "Lossy conversion from float32 to uint8. Range [-20.7232666015625, 13.836285591125488]. Convert image to uint8 prior to saving to suppress this warning.\n",
      "Lossy conversion from float32 to uint8. Range [-10.928126335144043, 12.931754112243652]. Convert image to uint8 prior to saving to suppress this warning.\n",
      "Lossy conversion from float32 to uint8. Range [-20.7232666015625, 14.14642333984375]. Convert image to uint8 prior to saving to suppress this warning.\n",
      "Lossy conversion from float32 to uint8. Range [-20.7232666015625, 12.418185234069824]. Convert image to uint8 prior to saving to suppress this warning.\n",
      "Lossy conversion from float32 to uint8. Range [-20.7232666015625, 11.9769868850708]. Convert image to uint8 prior to saving to suppress this warning.\n",
      "Lossy conversion from float32 to uint8. Range [-20.7232666015625, 14.838333129882812]. Convert image to uint8 prior to saving to suppress this warning.\n",
      "Lossy conversion from float32 to uint8. Range [-20.7232666015625, 13.728955268859863]. Convert image to uint8 prior to saving to suppress this warning.\n",
      "Lossy conversion from float32 to uint8. Range [-20.7232666015625, 14.533679008483887]. Convert image to uint8 prior to saving to suppress this warning.\n",
      "Lossy conversion from float32 to uint8. Range [-20.7232666015625, 14.547961235046387]. Convert image to uint8 prior to saving to suppress this warning.\n",
      "Lossy conversion from float32 to uint8. Range [-20.7232666015625, 13.107095718383789]. Convert image to uint8 prior to saving to suppress this warning.\n",
      "Lossy conversion from float32 to uint8. Range [-20.7232666015625, 14.424686431884766]. Convert image to uint8 prior to saving to suppress this warning.\n",
      "Lossy conversion from float32 to uint8. Range [-20.7232666015625, 11.64096736907959]. Convert image to uint8 prior to saving to suppress this warning.\n",
      "Lossy conversion from float32 to uint8. Range [-20.7232666015625, 13.696746826171875]. Convert image to uint8 prior to saving to suppress this warning.\n",
      "Lossy conversion from float32 to uint8. Range [-20.7232666015625, 11.094277381896973]. Convert image to uint8 prior to saving to suppress this warning.\n",
      "Lossy conversion from float32 to uint8. Range [-20.7232666015625, 14.591079711914062]. Convert image to uint8 prior to saving to suppress this warning.\n",
      "Lossy conversion from float32 to uint8. Range [-20.7232666015625, 12.542627334594727]. Convert image to uint8 prior to saving to suppress this warning.\n",
      "Lossy conversion from float32 to uint8. Range [-20.7232666015625, 14.081781387329102]. Convert image to uint8 prior to saving to suppress this warning.\n",
      "Lossy conversion from float32 to uint8. Range [-20.7232666015625, 12.150885581970215]. Convert image to uint8 prior to saving to suppress this warning.\n",
      "Lossy conversion from float32 to uint8. Range [-20.7232666015625, 13.899360656738281]. Convert image to uint8 prior to saving to suppress this warning.\n",
      "Lossy conversion from float32 to uint8. Range [-20.7232666015625, 13.780940055847168]. Convert image to uint8 prior to saving to suppress this warning.\n",
      "Lossy conversion from float32 to uint8. Range [-20.7232666015625, 14.626011848449707]. Convert image to uint8 prior to saving to suppress this warning.\n",
      "Lossy conversion from float32 to uint8. Range [-13.69425106048584, 13.241480827331543]. Convert image to uint8 prior to saving to suppress this warning.\n",
      "Lossy conversion from float32 to uint8. Range [-14.40320110321045, 13.222246170043945]. Convert image to uint8 prior to saving to suppress this warning.\n",
      "Lossy conversion from float32 to uint8. Range [-14.016742706298828, 13.890286445617676]. Convert image to uint8 prior to saving to suppress this warning.\n"
     ]
    },
    {
     "name": "stdout",
     "output_type": "stream",
     "text": [
      "wrote file C:/outs/torch_spects/Your_Song.png\n"
     ]
    }
   ],
   "source": [
    "import librosa\n",
    "import numpy\n",
    "import skimage.io\n",
    "import os\n",
    "import torchaudio\n",
    "import torchaudio.transforms as T\n",
    "\n",
    "\n",
    "def scale_minmax(X, min=0.0, max=1.0):\n",
    "    X_std = (X - X.min()) / (X.max() - X.min())\n",
    "    X_scaled = X_std * (max - min) + min\n",
    "    return X_scaled\n",
    "\n",
    "def spectrogram_image(y, sr, out, hop_length, n_mels):\n",
    "    # use log-melspectrogram\n",
    "    mels = librosa.feature.melspectrogram(y=y, sr=sr, n_mels=n_mels,\n",
    "                                            n_fft=hop_length*2, hop_length=hop_length)\n",
    "    mels = numpy.log(mels + 1e-9) # add small number to avoid log(0)\n",
    "\n",
    "    # min-max scale to fit inside 8-bit range\n",
    "    img = scale_minmax(mels, 0, 255).astype(numpy.uint8)\n",
    "    img = numpy.flip(img, axis=0) # put low frequencies at the bottom in image\n",
    "    img = 255-img # invert. make black==more energy\n",
    "\n",
    "    # save as PNG\n",
    "    skimage.io.imsave(out, img)\n",
    "\n",
    "if __name__ == '__main__':\n",
    "    # settings\n",
    "    hop_length = 4096 # number of samples per time-step in spectrogram\n",
    "    n_mels = 105 # number of bins in spectrogram. Height of image\n",
    "    time_steps = 599 # number of time-steps. Width of image\n",
    "    \n",
    "    # extract a fixed length window\n",
    "    start_sample = 0 # starting at beginning\n",
    "    length_samples = time_steps*hop_length\n",
    "    \n",
    "    \n",
    "    # load audio. Using example from librosa\n",
    "    #path = \"C:/Users/georg/Desktop/kappa\"\n",
    "    path = \"C:/Users/Michalis Zeakis/Desktop/university/ptyxiaki/datasets/our_wavs\"\n",
    "    #path = \"C:/test\"\n",
    "    os.chdir(path)\n",
    "    audio_files = os.listdir()\n",
    "    for file in audio_files:\n",
    "        name, ext = os.path.splitext(file)\n",
    "        #y, sr = librosa.load(file, sr=44100)\n",
    "        y, sr = torchaudio.load(file)\n",
    "        out = 'C:/outs/torch_spects/{0}.png'.format(name)\n",
    "        window = y[start_sample:start_sample+length_samples]\n",
    "        # convert to PNG\n",
    "        spect = T.MelSpectrogram(sample_rate = 44100, n_fft = hop_length*2, n_mels=n_mels, hop_length=hop_length)\n",
    "        melspec = spect(window)\n",
    "        #spectrogram_image(window, sr=sr, out=out, hop_length=hop_length, n_mels=n_mels)\n",
    "        melspec = numpy.log(melspec + 1e-9)\n",
    "        skimage.io.imsave(out, melspec[0])\n",
    "\n",
    "    \n",
    "    \n",
    "    \n",
    "    print('wrote file', out)"
   ]
  },
  {
   "cell_type": "code",
   "execution_count": null,
   "metadata": {},
   "outputs": [],
   "source": []
  }
 ],
 "metadata": {
  "kernelspec": {
   "display_name": "Python 3",
   "language": "python",
   "name": "python3"
  },
  "language_info": {
   "codemirror_mode": {
    "name": "ipython",
    "version": 3
   },
   "file_extension": ".py",
   "mimetype": "text/x-python",
   "name": "python",
   "nbconvert_exporter": "python",
   "pygments_lexer": "ipython3",
   "version": "3.8.5"
  }
 },
 "nbformat": 4,
 "nbformat_minor": 4
}
